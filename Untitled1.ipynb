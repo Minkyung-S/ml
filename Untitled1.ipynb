{
 "cells": [
  {
   "cell_type": "code",
   "execution_count": null,
   "id": "55d2e4e6",
   "metadata": {},
   "outputs": [],
   "source": [
    "import numpy as np \n",
    "import pandas as pd\n",
    "import matplotlib.pyplot as plt\n",
    "import seaborn as sns"
   ]
  },
  {
   "cell_type": "code",
   "execution_count": null,
   "id": "6f8da921",
   "metadata": {},
   "outputs": [],
   "source": [
    "train_df = pd.read_csv('house_train.csv')\n",
    "test_df = pd.read_csv('house_test.csv')\n",
    "\n",
    "train_df.head()"
   ]
  },
  {
   "cell_type": "code",
   "execution_count": null,
   "id": "c29942b9",
   "metadata": {},
   "outputs": [],
   "source": [
    "train_df.set_index('Id', inplace=True)\n",
    "test_df.set_index('Id', inplace=True)\n",
    "len_train_df = len(train_df)\n",
    "len_test_df = len(test_df)"
   ]
  },
  {
   "cell_type": "code",
   "execution_count": null,
   "id": "737142ef",
   "metadata": {},
   "outputs": [],
   "source": [
    "corrmat = train_df.corr()\n",
    "top_corr_features = corrmat.index[abs(corrmat[\"SalePrice\"])>=0.3]\n",
    "top_corr_features\n",
    "Index(['LotFrontage', 'OverallQual', 'YearBuilt', 'YearRemodAdd', 'MasVnrArea',\n",
    "       'BsmtFinSF1', 'TotalBsmtSF', '1stFlrSF', '2ndFlrSF', 'GrLivArea',\n",
    "       'FullBath', 'TotRmsAbvGrd', 'Fireplaces', 'GarageYrBlt', 'GarageCars',\n",
    "       'GarageArea', 'WoodDeckSF', 'OpenPorchSF', 'SalePrice'],\n",
    "      dtype='object')\n",
    "# heatmap\n",
    "plt.figure(figsize=(13,10))\n",
    "g = sns.heatmap(train_df[top_corr_features].corr(),annot=True,cmap=\"RdYlGn\")"
   ]
  }
 ],
 "metadata": {
  "kernelspec": {
   "display_name": "Python 3 (ipykernel)",
   "language": "python",
   "name": "python3"
  },
  "language_info": {
   "codemirror_mode": {
    "name": "ipython",
    "version": 3
   },
   "file_extension": ".py",
   "mimetype": "text/x-python",
   "name": "python",
   "nbconvert_exporter": "python",
   "pygments_lexer": "ipython3",
   "version": "3.8.7"
  }
 },
 "nbformat": 4,
 "nbformat_minor": 5
}
